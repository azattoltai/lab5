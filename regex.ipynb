{
 "cells": [
  {
   "cell_type": "markdown",
   "metadata": {},
   "source": [
    "Task 1"
   ]
  },
  {
   "cell_type": "code",
   "execution_count": 3,
   "metadata": {},
   "outputs": [
    {
     "name": "stdout",
     "output_type": "stream",
     "text": [
      "<re.Match object; span=(0, 5), match='axbxb'>\n"
     ]
    }
   ],
   "source": [
    "import re\n",
    "\n",
    "txt = \"axbxb\"\n",
    "x = re.search('a.*b', txt)\n",
    "print(x)\n"
   ]
  },
  {
   "cell_type": "markdown",
   "metadata": {},
   "source": [
    "Task 2"
   ]
  },
  {
   "cell_type": "code",
   "execution_count": 4,
   "metadata": {},
   "outputs": [
    {
     "name": "stdout",
     "output_type": "stream",
     "text": [
      "<re.Match object; span=(0, 3), match='acb'>\n"
     ]
    }
   ],
   "source": [
    "import re\n",
    "\n",
    "txt = 'acb'\n",
    "x = re.search('a.{1}b', txt)\n",
    "y = re.search('a.{2}b', txt)\n",
    "if re.search('a.{1}b', txt):\n",
    "    print(x)\n",
    "elif re.search('a.{2}b', txt):\n",
    "    print(y)\n",
    "else:\n",
    "    print(\"Error\")\n"
   ]
  },
  {
   "cell_type": "markdown",
   "metadata": {},
   "source": [
    "Task 3"
   ]
  },
  {
   "cell_type": "code",
   "execution_count": 12,
   "metadata": {},
   "outputs": [
    {
     "name": "stdout",
     "output_type": "stream",
     "text": [
      "['hello_world']\n"
     ]
    }
   ],
   "source": [
    "import re\n",
    "\n",
    "\n",
    "txt = 'hello_world'\n",
    "x = re.findall(\"[a-z]+_[a-z]+\", txt)\n",
    "if x:\n",
    "    print(x)\n",
    "else:\n",
    "    print(\"No match\")\n"
   ]
  },
  {
   "cell_type": "markdown",
   "metadata": {},
   "source": [
    "Task 4"
   ]
  },
  {
   "cell_type": "code",
   "execution_count": null,
   "metadata": {},
   "outputs": [
    {
     "name": "stdout",
     "output_type": "stream",
     "text": [
      "['Roerjoiernwif']\n"
     ]
    }
   ],
   "source": [
    "import re\n",
    "\n",
    "\n",
    "txt = 'WFIWFNWFRoerjoiernwif'\n",
    "x = re.findall('[A-Z]{1}[a-z]+', txt)\n",
    "print(x)"
   ]
  },
  {
   "cell_type": "markdown",
   "metadata": {},
   "source": [
    "Task 5"
   ]
  },
  {
   "cell_type": "code",
   "execution_count": 14,
   "metadata": {},
   "outputs": [
    {
     "name": "stdout",
     "output_type": "stream",
     "text": [
      "<re.Match object; span=(9, 22), match='ageoigjoijwfb'>\n"
     ]
    }
   ],
   "source": [
    "import re\n",
    "\n",
    "\n",
    "txt = 'wkgmwrgiuageoigjoijwfb'\n",
    "x = re.search('a.*b$', txt)\n",
    "print(x)\n"
   ]
  },
  {
   "cell_type": "markdown",
   "metadata": {},
   "source": [
    "Task 6"
   ]
  },
  {
   "cell_type": "code",
   "execution_count": 16,
   "metadata": {},
   "outputs": [
    {
     "name": "stdout",
     "output_type": "stream",
     "text": [
      "nernnero:imerimer:ofnrmer:wpomermpr\n"
     ]
    }
   ],
   "source": [
    "import re\n",
    "\n",
    "\n",
    "txt = 'nernnero imerimer,ofnrmer.wpomermpr'\n",
    "x = re.sub('[ .,]', ':', txt, 4)\n",
    "print(x)\n"
   ]
  },
  {
   "cell_type": "markdown",
   "metadata": {},
   "source": [
    "Task 7"
   ]
  },
  {
   "cell_type": "code",
   "execution_count": null,
   "metadata": {},
   "outputs": [
    {
     "name": "stdout",
     "output_type": "stream",
     "text": [
      "helloWorld\n"
     ]
    }
   ],
   "source": [
    "import re\n",
    "\n",
    "txt = 'hello_world'\n",
    "txt2 = txt.upper()\n",
    "camel = ''\n",
    "i = 0\n",
    "while(i != len(txt)):\n",
    "    if txt[i] == '_':\n",
    "        camel += txt[i] + txt2[i+1]\n",
    "        i += 2\n",
    "    else:\n",
    "        camel += txt[i]\n",
    "        i += 1\n",
    "camel = re.sub('_', '', camel)\n",
    "print(camel)\n"
   ]
  },
  {
   "cell_type": "markdown",
   "metadata": {},
   "source": [
    "Task 8"
   ]
  },
  {
   "cell_type": "code",
   "execution_count": 18,
   "metadata": {},
   "outputs": [
    {
     "name": "stdout",
     "output_type": "stream",
     "text": [
      "['Hello', 'World']\n"
     ]
    }
   ],
   "source": [
    "import re\n",
    "\n",
    "txt = 'HelloWorld'\n",
    "x = re.findall('[A-Z][^A-Z]*', txt)\n",
    "print(x)\n"
   ]
  },
  {
   "cell_type": "markdown",
   "metadata": {},
   "source": [
    "Task 9"
   ]
  },
  {
   "cell_type": "code",
   "execution_count": 19,
   "metadata": {},
   "outputs": [
    {
     "name": "stdout",
     "output_type": "stream",
     "text": [
      " Hello World\n"
     ]
    }
   ],
   "source": [
    "import re\n",
    "\n",
    "\n",
    "str = \"HelloWorld\"\n",
    "x = re.sub(r\"([A-Z])\", r\" \\1\", str)\n",
    "print(x)\n"
   ]
  },
  {
   "cell_type": "markdown",
   "metadata": {},
   "source": [
    "Task 10"
   ]
  },
  {
   "cell_type": "code",
   "execution_count": 20,
   "metadata": {},
   "outputs": [
    {
     "name": "stdout",
     "output_type": "stream",
     "text": [
      "hello_world\n"
     ]
    }
   ],
   "source": [
    "import re\n",
    "\n",
    "camel = 'HelloWorld'\n",
    "snake = re.sub(r\"([A-Z])\", r\" \\1\", camel)\n",
    "snake = snake.lower()\n",
    "snake = snake.strip()\n",
    "snake = re.sub(r'\\s', '_', snake)\n",
    "print(snake)"
   ]
  }
 ],
 "metadata": {
  "kernelspec": {
   "display_name": "Python 3",
   "language": "python",
   "name": "python3"
  },
  "language_info": {
   "codemirror_mode": {
    "name": "ipython",
    "version": 3
   },
   "file_extension": ".py",
   "mimetype": "text/x-python",
   "name": "python",
   "nbconvert_exporter": "python",
   "pygments_lexer": "ipython3",
   "version": "3.12.3"
  }
 },
 "nbformat": 4,
 "nbformat_minor": 2
}
